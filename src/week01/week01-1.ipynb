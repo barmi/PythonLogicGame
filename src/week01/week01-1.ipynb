{
 "cells": [
  {
   "cell_type": "markdown",
   "metadata": {},
   "source": [
    "# 1. 첫번째 프로그램\n",
    "## Hello, Python을 출력해 봅시다."
   ]
  },
  {
   "cell_type": "code",
   "execution_count": null,
   "metadata": {},
   "outputs": [],
   "source": [
    "print(\"Hello, Python\")"
   ]
  },
  {
   "cell_type": "markdown",
   "metadata": {},
   "source": [
    "## 간단한 수식을 입력해 봅시다.\n",
    "| 연산자 | 의미 | 예제 | 결과 |\n",
    "| :----: | :--- | ---- | ---- |\n",
    "| * | 곱하기 | 2 * 3 | 6 |\n",
    "| / | 나누기(일반) | 20 / 8 | 2.5 |\n",
    "| // | 나누기(정수값만) | 20 // 8 | 2 |\n",
    "| % | 나머지 | 20 % 8 | 4 |\n",
    "| + | 더하기 | 2 + 3 | 5 |\n",
    "| - | 빼기 | 7 - 3 | 4 |"
   ]
  },
  {
   "cell_type": "code",
   "execution_count": null,
   "metadata": {},
   "outputs": [],
   "source": [
    "print(\"111을 4로 나누면? \", 111/4)"
   ]
  },
  {
   "cell_type": "markdown",
   "metadata": {},
   "source": [
    "## 다음 코드의 출력 결과는 무엇일까요? (실행하기 전에 먼저 생각해 보세요)"
   ]
  },
  {
   "cell_type": "code",
   "execution_count": null,
   "metadata": {},
   "outputs": [],
   "source": [
    "print(\"11을 4로 나누면? \", 11/4, \" 나머지는? \", 11%4)"
   ]
  },
  {
   "cell_type": "markdown",
   "metadata": {},
   "source": [
    "# 2. 반복문과 변수"
   ]
  },
  {
   "cell_type": "markdown",
   "metadata": {},
   "source": [
    "### 다음을 입력해 보세요."
   ]
  },
  {
   "cell_type": "code",
   "execution_count": null,
   "metadata": {},
   "outputs": [],
   "source": [
    "lines = 0\n",
    "while lines < 10:\n",
    "    print(\"프로그래밍은 재밌습니다.\")\n",
    "    lines = lines + 1"
   ]
  },
  {
   "cell_type": "markdown",
   "metadata": {},
   "source": [
    "### 위 코드는 \"프로그래밍은 재밌습니다.\" 라는 문장을 10번 반복해서 출력하는 프로그램입니다.\n",
    "### 여기서, lines 는 '변수' 입니다."
   ]
  },
  {
   "cell_type": "code",
   "execution_count": null,
   "metadata": {},
   "outputs": [],
   "source": [
    "lines = 0"
   ]
  },
  {
   "cell_type": "markdown",
   "metadata": {},
   "source": [
    "### 위 문장은 lines와 0이 같다는 의미가 아니라, lines라는 변수에 0을 대입(assign)하라는 뜻입니다.\n",
    "### while은 그 다음에 나오는 조건에 따라 반복적인 명렬을 수행힙니다."
   ]
  },
  {
   "cell_type": "code",
   "execution_count": null,
   "metadata": {},
   "outputs": [],
   "source": [
    "lines = lines + 1"
   ]
  },
  {
   "cell_type": "markdown",
   "metadata": {},
   "source": [
    "### 반복문을 수행할 때마다, lines의 값은 1이 증가합니다.\n",
    "### 다음코드는 while문과 변수를 사용하여, 1부터 100까지 숫자를 세도록 하는 프로그램입니다."
   ]
  },
  {
   "cell_type": "code",
   "execution_count": null,
   "metadata": {},
   "outputs": [],
   "source": [
    "number = 1\n",
    "while number <= 100:\n",
    "    print(number)\n",
    "    number = number + 1"
   ]
  },
  {
   "cell_type": "markdown",
   "metadata": {},
   "source": [
    "### 다음 코드를 보세요. "
   ]
  },
  {
   "cell_type": "code",
   "execution_count": null,
   "metadata": {},
   "outputs": [],
   "source": [
    "number = 1\n",
    "while number <= 100:\n",
    "    print(number)\n",
    "    number += 1"
   ]
  },
  {
   "cell_type": "markdown",
   "metadata": {},
   "source": [
    "### number라는 변수에 값을 누적할 때, \n",
    "### number = number + 1 \n",
    "### 대신, \n",
    "### number += 1 \n",
    "### 이라는 표현을 쓸 수도 있어요."
   ]
  },
  {
   "cell_type": "code",
   "execution_count": null,
   "metadata": {},
   "outputs": [],
   "source": [
    "number = 1\n",
    "sum = 0\n",
    "while number <= 100:\n",
    "    # print(number)\n",
    "    sum = sum + number\n",
    "    number = number + 1\n",
    "print(sum)"
   ]
  },
  {
   "cell_type": "markdown",
   "metadata": {},
   "source": [
    "### sum이라는 변수를 사용해서, 값을 더하는 프로그램을 작성하고, 마지막에 출력을 했어요.\n",
    "### 중간에 print(number) 앞에 '#' 이 있죠. 이건 주석문(comment)라고해서 실행을 하지 않아요."
   ]
  },
  {
   "cell_type": "code",
   "execution_count": null,
   "metadata": {},
   "outputs": [],
   "source": [
    "number = 1\n",
    "sum = 0\n",
    "while number <= 100:\n",
    "    sum += number\n",
    "    number += 1\n",
    "print(sum)"
   ]
  },
  {
   "cell_type": "markdown",
   "metadata": {},
   "source": [
    "### 코드를 좀 더 정리를 했어요."
   ]
  },
  {
   "cell_type": "code",
   "execution_count": null,
   "metadata": {},
   "outputs": [],
   "source": [
    "sum = 0\n",
    "for number in range(1,101):\n",
    "    sum += number\n",
    "print(sum)"
   ]
  },
  {
   "cell_type": "markdown",
   "metadata": {},
   "source": [
    "### while 이 아닌, for 를 사용해서 동일한 프로그램을 작성해 봤어요.\n",
    "### range(1, 101)은 우리가 배운 수식으로 따지면 다음과 같아요.\n",
    "$$1 \\leq number < 101$$"
   ]
  },
  {
   "cell_type": "code",
   "execution_count": null,
   "metadata": {},
   "outputs": [],
   "source": []
  }
 ],
 "metadata": {
  "kernelspec": {
   "display_name": "Python 3",
   "language": "python",
   "name": "python3"
  },
  "language_info": {
   "codemirror_mode": {
    "name": "ipython",
    "version": 3
   },
   "file_extension": ".py",
   "mimetype": "text/x-python",
   "name": "python",
   "nbconvert_exporter": "python",
   "pygments_lexer": "ipython3",
   "version": "3.6.5"
  }
 },
 "nbformat": 4,
 "nbformat_minor": 1
}
