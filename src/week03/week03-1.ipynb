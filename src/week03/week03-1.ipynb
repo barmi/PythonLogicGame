{
 "cells": [
  {
   "cell_type": "markdown",
   "metadata": {},
   "source": [
    "# 숫자야구 게임\n"
   ]
  },
  {
   "cell_type": "markdown",
   "metadata": {},
   "source": [
    "## 게임 방법\n",
    "각자 3자리의 숫자를 임의로 정한 뒤, 서로에게 3자리의 숫자를 불러서 결과를 확인한다.  \n",
    "그리고 그 결과를 토대로 상대가 적은 숫자를 예상한 뒤 맞힌다.\n",
    "\n",
    "* 사용되는 숫자는 0에서 9까지 서로 다른 숫자이다.\n",
    "* 숫자는 맞지만 위치가 틀렸을 때는 볼.\n",
    "* 숫자와 위치가 전부 맞으면 스트라이크.\n",
    "* 숫자와 위치가 전부 틀리면 아웃. \"틀렸다\"는 게 중요하다.\n",
    "* 물론 무엇이 볼이고 스트라이크인지는 알려주지 않는다.\n",
    "\n",
    "출처 : https://namu.wiki/w/숫자야구"
   ]
  },
  {
   "cell_type": "markdown",
   "metadata": {},
   "source": [
    "## 세자리 숫자를 표현하는 방법\n",
    "* 세자리 문자열 사용\n",
    "* 문자열을 numstr 이라고 하면 각 자리수는 다음과 같이 표현된다."
   ]
  },
  {
   "cell_type": "code",
   "execution_count": 4,
   "metadata": {},
   "outputs": [
    {
     "name": "stdout",
     "output_type": "stream",
     "text": [
      "첫번째 자리수는 :  4\n",
      "두번째 자리수는 :  5\n",
      "세번째 자리수는 :  6\n"
     ]
    }
   ],
   "source": [
    "numstr = \"456\"\n",
    "print(\"첫번째 자리수는 : \", numstr[0])\n",
    "print(\"두번째 자리수는 : \", numstr[1])\n",
    "print(\"세번째 자리수는 : \", numstr[2])"
   ]
  },
  {
   "cell_type": "markdown",
   "metadata": {},
   "source": [
    "## 볼카운트 계산\n",
    "\n",
    "이제 서로 부른 숫자의 볼카운트를 계산해 봅시다.  \n",
    "각 자리수에서 같은 위치의 숫자가 같으면, strike를 1 증가시키고,  \n",
    "다른 위치의 숫자가 같으면, ball을 1 증가시킵니다.  \n",
    "이 내용을 python으로 표현을 해 봅시다."
   ]
  },
  {
   "cell_type": "markdown",
   "metadata": {},
   "source": [
    "### skrike 계산\n",
    "\n",
    "첫번째 숫자의 첫번째 자리의 숫자와 두번째 숫자의 첫번째 자리의 숫자를 비교해서 같으면 strike 변수의 값을 1 증가시킵니다.  \n",
    "(응용해서 첫번째 숫자의 두번째 자리, 세번째 자리도 비교해 보세요.)"
   ]
  },
  {
   "cell_type": "code",
   "execution_count": 3,
   "metadata": {},
   "outputs": [
    {
     "data": {
      "text/plain": [
       "(1, 0)"
      ]
     },
     "execution_count": 3,
     "metadata": {},
     "output_type": "execute_result"
    }
   ],
   "source": [
    "# get_ball_count() 라는 함수로 만듭니다.\n",
    "def get_ball_count(numstr1, numstr2):\n",
    "    strike = ball = 0\n",
    "    \n",
    "    # strike 계산\n",
    "    if (numstr1[0] == numstr2[0]):\n",
    "        strike += 1\n",
    "    # 두번째 자리, 세번째 자리도 비교해야 합니다.\n",
    "    \n",
    "    return strike, ball\n",
    "\n",
    "get_ball_count(\"1**\", \"1**\")"
   ]
  },
  {
   "cell_type": "markdown",
   "metadata": {},
   "source": [
    "### ball 계산\n",
    "\n",
    "첫번째 숫자의 첫번째 자리의 숫자를 기준으로, 두번째 숫자의 두번째 자리와 세번째 자리의 숫자를 비교해서 하나라도 같으면(or) ball 변수의 값을 1 증가시킵니다.  \n",
    "(응용해서 첫번째 숫자의 두번째 자리, 세번째 자리도 비교해 보세요.)"
   ]
  },
  {
   "cell_type": "code",
   "execution_count": 4,
   "metadata": {},
   "outputs": [
    {
     "data": {
      "text/plain": [
       "(0, 1)"
      ]
     },
     "execution_count": 4,
     "metadata": {},
     "output_type": "execute_result"
    }
   ],
   "source": [
    "# get_ball_count() 라는 함수로 만듭니다.\n",
    "def get_ball_count(numstr1, numstr2):\n",
    "    strike = ball = 0\n",
    "    \n",
    "    # ball 계산\n",
    "    if (numstr1[0] == numstr2[1] or numstr1[0] == numstr2[2]):\n",
    "        ball += 1\n",
    "    # 두번째 자리, 세번째 자리도 비교해야 합니다.\n",
    "    \n",
    "    return strike, ball\n",
    "\n",
    "get_ball_count(\"2**\", \"*2*\")"
   ]
  },
  {
   "cell_type": "markdown",
   "metadata": {},
   "source": [
    "모두 합쳐서 적어보면 아래의 코드와 같습니다."
   ]
  },
  {
   "cell_type": "code",
   "execution_count": 6,
   "metadata": {},
   "outputs": [
    {
     "name": "stdout",
     "output_type": "stream",
     "text": [
      "(3, 0)\n",
      "(1, 1)\n",
      "(0, 3)\n"
     ]
    }
   ],
   "source": [
    "def get_ball_count(numstr1, numstr2):\n",
    "    strike = ball = 0\n",
    "    if (numstr1[0] == numstr2[0]):\n",
    "        strike += 1\n",
    "    if (numstr1[1] == numstr2[1]):\n",
    "        strike += 1\n",
    "    if (numstr1[2] == numstr2[2]):\n",
    "        strike += 1\n",
    "    \n",
    "    if (numstr1[0] == numstr2[1] or numstr1[0] == numstr2[2]):\n",
    "        ball += 1\n",
    "    if (numstr1[1] == numstr2[0] or numstr1[1] == numstr2[2]):\n",
    "        ball += 1\n",
    "    if (numstr1[2] == numstr2[0] or numstr1[2] == numstr2[1]):\n",
    "        ball += 1\n",
    "    \n",
    "    return strike, ball\n",
    "\n",
    "print(get_ball_count(\"123\", \"123\"))\n",
    "print(get_ball_count(\"456\", \"467\"))\n",
    "print(get_ball_count(\"789\", \"978\"))"
   ]
  },
  {
   "cell_type": "code",
   "execution_count": 34,
   "metadata": {},
   "outputs": [],
   "source": [
    "def get_ball_count(numstr1, numstr2):\n",
    "    strike = ball = 0\n",
    "    for i in range(0, 3):\n",
    "        for j in range(0, 3):\n",
    "            if numstr1[i] == numstr2[j]:\n",
    "                if i == j:\n",
    "                    strike += 1\n",
    "                else:\n",
    "                    ball += 1\n",
    "    \n",
    "    return strike, ball"
   ]
  },
  {
   "cell_type": "code",
   "execution_count": 2,
   "metadata": {},
   "outputs": [
    {
     "name": "stdout",
     "output_type": "stream",
     "text": [
      "081\n"
     ]
    }
   ],
   "source": [
    "import random\n",
    "\n",
    "def generate_three_number():\n",
    "    is_done = False\n",
    "    while not is_done:\n",
    "        num = str(random.randint(1, 999)).zfill(3)\n",
    "        if num[0] != num[1] and num[0] != num[2] and num[1] != num[2]:\n",
    "            is_done = True\n",
    "    return num\n",
    "print(generate_three_number())"
   ]
  },
  {
   "cell_type": "code",
   "execution_count": 6,
   "metadata": {},
   "outputs": [
    {
     "name": "stdout",
     "output_type": "stream",
     "text": [
      "(0, 0)\n"
     ]
    }
   ],
   "source": [
    "print(get_ball_count(\"123\", \"456\"))"
   ]
  },
  {
   "cell_type": "code",
   "execution_count": 7,
   "metadata": {},
   "outputs": [
    {
     "name": "stdout",
     "output_type": "stream",
     "text": [
      "(1, 1)\n"
     ]
    }
   ],
   "source": [
    "print(get_ball_count(\"123\", \"243\"))"
   ]
  },
  {
   "cell_type": "code",
   "execution_count": 3,
   "metadata": {},
   "outputs": [
    {
     "data": {
      "text/plain": [
       "'012'"
      ]
     },
     "execution_count": 3,
     "metadata": {},
     "output_type": "execute_result"
    }
   ],
   "source": [
    "str(12).zfill(3)"
   ]
  },
  {
   "cell_type": "code",
   "execution_count": 5,
   "metadata": {},
   "outputs": [],
   "source": [
    "check_table = [False] * 1000"
   ]
  },
  {
   "cell_type": "code",
   "execution_count": 6,
   "metadata": {},
   "outputs": [
    {
     "data": {
      "text/plain": [
       "False"
      ]
     },
     "execution_count": 6,
     "metadata": {},
     "output_type": "execute_result"
    }
   ],
   "source": [
    "check_table[0]"
   ]
  },
  {
   "cell_type": "code",
   "execution_count": 7,
   "metadata": {},
   "outputs": [],
   "source": [
    "check_table[4]= True"
   ]
  },
  {
   "cell_type": "code",
   "execution_count": 26,
   "metadata": {},
   "outputs": [
    {
     "data": {
      "text/plain": [
       "False"
      ]
     },
     "execution_count": 26,
     "metadata": {},
     "output_type": "execute_result"
    }
   ],
   "source": [
    "check_table[4]"
   ]
  },
  {
   "cell_type": "code",
   "execution_count": 25,
   "metadata": {},
   "outputs": [
    {
     "data": {
      "text/plain": [
       "False"
      ]
     },
     "execution_count": 25,
     "metadata": {},
     "output_type": "execute_result"
    }
   ],
   "source": [
    "check_table[5]"
   ]
  },
  {
   "cell_type": "code",
   "execution_count": 27,
   "metadata": {},
   "outputs": [
    {
     "data": {
      "text/plain": [
       "True"
      ]
     },
     "execution_count": 27,
     "metadata": {},
     "output_type": "execute_result"
    }
   ],
   "source": [
    "check_table[123]"
   ]
  },
  {
   "cell_type": "code",
   "execution_count": 20,
   "metadata": {},
   "outputs": [],
   "source": [
    "def is_valid_num(num):\n",
    "    numstr = str(num).zfill(3)\n",
    "    return is_valid_numstr(numstr)\n",
    "\n",
    "def is_valid_numstr(numstr):\n",
    "    return (numstr[0] != numstr[1] != numstr[2])\n"
   ]
  },
  {
   "cell_type": "code",
   "execution_count": 30,
   "metadata": {},
   "outputs": [
    {
     "data": {
      "text/plain": [
       "True"
      ]
     },
     "execution_count": 30,
     "metadata": {},
     "output_type": "execute_result"
    }
   ],
   "source": [
    "is_valid_numstr(\"123\")"
   ]
  },
  {
   "cell_type": "code",
   "execution_count": 31,
   "metadata": {},
   "outputs": [
    {
     "data": {
      "text/plain": [
       "False"
      ]
     },
     "execution_count": 31,
     "metadata": {},
     "output_type": "execute_result"
    }
   ],
   "source": [
    "is_valid_num(112)"
   ]
  },
  {
   "cell_type": "code",
   "execution_count": 32,
   "metadata": {},
   "outputs": [],
   "source": [
    "def init_check_table():\n",
    "    table = [False] * 1000\n",
    "    # table에서 중복되는 숫자가 있는 값을 제외한다.\n",
    "    for num in range(0, 1000):\n",
    "        table[num] = is_valid_num(num)\n",
    "    return table\n",
    "\n",
    "check_table = init_check_table()"
   ]
  },
  {
   "cell_type": "code",
   "execution_count": 35,
   "metadata": {},
   "outputs": [
    {
     "data": {
      "text/plain": [
       "(1, 2)"
      ]
     },
     "execution_count": 35,
     "metadata": {},
     "output_type": "execute_result"
    }
   ],
   "source": [
    "get_ball_count(\"123\", \"213\")"
   ]
  },
  {
   "cell_type": "code",
   "execution_count": null,
   "metadata": {},
   "outputs": [],
   "source": []
  },
  {
   "cell_type": "code",
   "execution_count": null,
   "metadata": {},
   "outputs": [],
   "source": [
    "def update_check_table(table, num, strike, ball):\n",
    "    for num in range(0, 1000):\n",
    "        if table[num]:\n",
    "            get_ball_count()"
   ]
  }
 ],
 "metadata": {
  "kernelspec": {
   "display_name": "Python 3",
   "language": "python",
   "name": "python3"
  },
  "language_info": {
   "codemirror_mode": {
    "name": "ipython",
    "version": 3
   },
   "file_extension": ".py",
   "mimetype": "text/x-python",
   "name": "python",
   "nbconvert_exporter": "python",
   "pygments_lexer": "ipython3",
   "version": "3.6.5"
  }
 },
 "nbformat": 4,
 "nbformat_minor": 2
}
