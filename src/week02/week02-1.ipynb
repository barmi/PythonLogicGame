{
 "cells": [
  {
   "cell_type": "markdown",
   "metadata": {},
   "source": [
    "# 숫자맞추기 게임"
   ]
  },
  {
   "cell_type": "markdown",
   "metadata": {},
   "source": [
    "이제까지 배운 내용으로 다음과 같은 게임을 만들어 봅시다.\n",
    "\n",
    "## 숫자 맞추기 게임\n",
    "1. 컴퓨터가 1~100 사이의 숫자를 생각한다.\n",
    "2. 사용자가 1~100 사이의 숫자를 입력한다.\n",
    "3. 생각한 숫자보다, 입력한 숫자가 크면 \"큽니다\", 작으면 \"작습니다\"를 출력한다.\n",
    "4. 숫자를 맞출때까지 반복한다.\n",
    "5. 숫자를 맞추면 \"맞췄습니다\"를 출력하고, 프로그램은 종료한다."
   ]
  },
  {
   "cell_type": "markdown",
   "metadata": {},
   "source": [
    "## 컴퓨터가 숫자를 생각하게 하기"
   ]
  },
  {
   "cell_type": "code",
   "execution_count": 1,
   "metadata": {},
   "outputs": [],
   "source": [
    "import random\n",
    "\n",
    "# 1 ~ 100 사이의 숫자 중 무작위(random)로 값 만들기\n",
    "com_num = random.randint(1, 100)"
   ]
  },
  {
   "cell_type": "markdown",
   "metadata": {},
   "source": [
    "## 숫자를 입력 받기"
   ]
  },
  {
   "cell_type": "code",
   "execution_count": 2,
   "metadata": {},
   "outputs": [
    {
     "name": "stdout",
     "output_type": "stream",
     "text": [
      "숫자를 입력하세요 : 50\n"
     ]
    }
   ],
   "source": [
    "man_num = int(input(\"숫자를 입력하세요 : \"))"
   ]
  },
  {
   "cell_type": "markdown",
   "metadata": {},
   "source": [
    "## 값을 비교하여, 알맞은 안내문 출력\n",
    "* 컴퓨터가 생각한 숫자(com_num)와 사람이 입력한 숫자(man_num)를 비교해서 안내문을 출력한다."
   ]
  },
  {
   "cell_type": "code",
   "execution_count": 3,
   "metadata": {},
   "outputs": [
    {
     "name": "stdout",
     "output_type": "stream",
     "text": [
      "입력한 숫자가 작습니다.\n"
     ]
    }
   ],
   "source": [
    "if man_num > com_num:\n",
    "    print(\"입력한 숫자가 큽니다.\")\n",
    "elif man_num < com_num: \n",
    "    print(\"입력한 숫자가 작습니다.\")\n",
    "else:\n",
    "    print(\"맞췄습니다.\")"
   ]
  },
  {
   "cell_type": "markdown",
   "metadata": {},
   "source": [
    "## 숫자를 맞출 때까지 반복\n",
    "* 반복문은 while로 처리합니다."
   ]
  },
  {
   "cell_type": "code",
   "execution_count": null,
   "metadata": {},
   "outputs": [],
   "source": [
    "is_end = False\n",
    "while not is_end:\n",
    "    # (반복해야 할 내용)\n",
    "    # 각자 생각해 보세요."
   ]
  },
  {
   "cell_type": "code",
   "execution_count": 5,
   "metadata": {},
   "outputs": [
    {
     "name": "stdout",
     "output_type": "stream",
     "text": [
      "숫자를 입력하세요 : 50\n",
      "입력한 숫자가 큽니다.\n",
      "숫자를 입력하세요 : 25\n",
      "입력한 숫자가 큽니다.\n",
      "숫자를 입력하세요 : 12\n",
      "입력한 숫자가 큽니다.\n",
      "숫자를 입력하세요 : 6\n",
      "입력한 숫자가 큽니다.\n",
      "숫자를 입력하세요 : 3\n",
      "입력한 숫자가 큽니다.\n",
      "숫자를 입력하세요 : 2\n",
      "맞췄습니다.\n"
     ]
    }
   ],
   "source": [
    "import random\n",
    "\n",
    "com_num = random.randint(1, 100)\n",
    "\n",
    "is_end = False\n",
    "while not is_end:\n",
    "    man_num = int(input(\"숫자를 입력하세요 : \"))\n",
    "    if man_num > com_num:\n",
    "        print(\"입력한 숫자가 큽니다.\")\n",
    "    elif man_num < com_num: \n",
    "        print(\"입력한 숫자가 작습니다.\")\n",
    "    else:\n",
    "        print(\"맞췄습니다.\")\n",
    "        is_end = True"
   ]
  },
  {
   "cell_type": "code",
   "execution_count": null,
   "metadata": {},
   "outputs": [],
   "source": []
  }
 ],
 "metadata": {
  "kernelspec": {
   "display_name": "Python 3",
   "language": "python",
   "name": "python3"
  },
  "language_info": {
   "codemirror_mode": {
    "name": "ipython",
    "version": 3
   },
   "file_extension": ".py",
   "mimetype": "text/x-python",
   "name": "python",
   "nbconvert_exporter": "python",
   "pygments_lexer": "ipython3",
   "version": "3.6.5"
  }
 },
 "nbformat": 4,
 "nbformat_minor": 2
}
